{
 "cells": [
  {
   "cell_type": "code",
   "execution_count": 1,
   "id": "aa9352eb",
   "metadata": {},
   "outputs": [
    {
     "name": "stdout",
     "output_type": "stream",
     "text": [
      "enter password········\n",
      "Error: [WinError 10060] A connection attempt failed because the connected party did not properly respond after a period of time, or established connection failed because connected host has failed to respond\n",
      "done\n"
     ]
    }
   ],
   "source": [
    "import smtplib\n",
    "from email.mime.text import MIMEText\n",
    "from email.mime.multipart import MIMEMultipart\n",
    "import ssl\n",
    "import getpass\n",
    "\n",
    "\n",
    "def send_bulk_email(subject, body_template, recipient_list):\n",
    "    # Your email credentials\n",
    "    sender_email = 'email id'\n",
    "    sender_password = getpass.getpass(\"enter password\")\n",
    "\n",
    "    # Create the MIME object\n",
    "    message = MIMEMultipart()\n",
    "    message['From'] = sender_email\n",
    "    message['Subject'] = subject\n",
    "\n",
    "    try:\n",
    "        # Set up the SMTP server with SSL\n",
    "        smtp_server = smtplib.SMTP_SSL('smtp.office365.com', 465, context=ssl.create_default_context())\n",
    "\n",
    "        # Log in to the email account\n",
    "        smtp_server.login(sender_email, sender_password)\n",
    "\n",
    "        for to_email in recipient_list:\n",
    "            # Attach the body of the email\n",
    "            body = body_template.format(recipient=to_email)\n",
    "            message.attach(MIMEText(body, 'plain'))\n",
    "\n",
    "            # Set the recipient\n",
    "            message['To'] = to_email\n",
    "\n",
    "            # Send the email\n",
    "            smtp_server.sendmail(sender_email, to_email, message.as_string())\n",
    "\n",
    "            # Clear the recipients and body for the next iteration\n",
    "            message.clear_recipients()\n",
    "            message.clear()\n",
    "\n",
    "        # Quit the server\n",
    "        smtp_server.quit()\n",
    "\n",
    "        print('Emails sent successfully.')\n",
    "\n",
    "    except Exception as e:\n",
    "        print(f'Error: {e}')\n",
    "        \n",
    "\n",
    "        \n",
    "\n",
    "        \n",
    "# list and sending details\n",
    "subject = 'Bulk Email Test'\n",
    "body_template = 'Hello {recipient},\\n\\nThis is a test email sent from Python.'\n",
    "recipient_list = ['roshanwisepro@outlook.com','praful@wisepromo.com','vivek.pandey@wisepromo.com','harsh.kumar@wisepromo.com','ashishbaisoya@wisepromo.com']\n",
    "\n",
    "send_bulk_email(subject, body_template, recipient_list)\n",
    "\n",
    "print(\"done\")\n"
   ]
  },
  {
   "cell_type": "code",
   "execution_count": null,
   "id": "64e7c3bd",
   "metadata": {},
   "outputs": [],
   "source": []
  }
 ],
 "metadata": {
  "kernelspec": {
   "display_name": "Python 3 (ipykernel)",
   "language": "python",
   "name": "python3"
  },
  "language_info": {
   "codemirror_mode": {
    "name": "ipython",
    "version": 3
   },
   "file_extension": ".py",
   "mimetype": "text/x-python",
   "name": "python",
   "nbconvert_exporter": "python",
   "pygments_lexer": "ipython3",
   "version": "3.11.5"
  }
 },
 "nbformat": 4,
 "nbformat_minor": 5
}
