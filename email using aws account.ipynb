{
 "cells": [
  {
   "cell_type": "code",
   "execution_count": null,
   "id": "e6a8d6c7",
   "metadata": {},
   "outputs": [],
   "source": [
    "pip install boto3"
   ]
  },
  {
   "cell_type": "code",
   "execution_count": null,
   "id": "8a1000d7",
   "metadata": {},
   "outputs": [],
   "source": [
    "import boto3\n",
    "from email.mime.text import MIMEText\n",
    "from email.mime.multipart import MIMEMultipart\n",
    "from concurrent.futures import ThreadPoolExecutor\n",
    "import getpass\n",
    "\n",
    "def send_email(email_info):\n",
    "    sender_email, aws_access_key, aws_secret_key, region_name, to_email, subject, body = email_info\n",
    "\n",
    "    # Create the MIME object\n",
    "    message = MIMEMultipart()\n",
    "    message['From'] = sender_email\n",
    "    message['To'] = to_email\n",
    "    message['Subject'] = subject\n",
    "\n",
    "    # Attach the body of the email\n",
    "    body_text = body.format(recipient=to_email)\n",
    "    message.attach(MIMEText(body_text, 'plain'))\n",
    "\n",
    "    # Create an SES client\n",
    "    ses_client = boto3.client('ses', aws_access_key_id=aws_access_key, aws_secret_access_key=aws_secret_key, region_name=region_name)\n",
    "\n",
    "    # Send the email\n",
    "    ses_client.send_raw_email(Source=sender_email, Destinations=[to_email], RawMessage={'Data': message.as_string()})\n",
    "\n",
    "if __name__ == \"__main__\":\n",
    "    # Your AWS credentials and SES configuration\n",
    "    aws_access_key = 'YOUR_AWS_ACCESS_KEY'\n",
    "    aws_secret_key = 'YOUR_AWS_SECRET_KEY'\n",
    "    region_name = 'us-east-1'  # Change this to your desired AWS region\n",
    "\n",
    "    # Sender email details\n",
    "    sender_email = 'sender email'\n",
    "\n",
    "    # Mail details\n",
    "    subject = 'Bulk Email Test3'\n",
    "    body_template = 'Hello {recipient},\\n\\nThis is a test email sent from Python.'\n",
    "    recipient_list = ['roshanwisepro@outlook.com', 'roshan.kumar@wisepromo.com', 'praful@wisepromo.com', 'vivek.pandey@wisepromo.com', 'harsh.kumar@wisepromo.com', 'ashishbaisoya@wisepromo.com']\n",
    "\n",
    "    # Create a ThreadPoolExecutor with 100 threads\n",
    "    with ThreadPoolExecutor(max_workers=100) as executor:\n",
    "        # Map the send_email function to the list of email information\n",
    "        executor.map(send_email, [(sender_email, aws_access_key, aws_secret_key, region_name, to_email, subject, body_template) for to_email in recipient_list])\n",
    "\n",
    "    print('Done. Emails sent successfully!')\n"
   ]
  }
 ],
 "metadata": {
  "kernelspec": {
   "display_name": "Python 3 (ipykernel)",
   "language": "python",
   "name": "python3"
  },
  "language_info": {
   "codemirror_mode": {
    "name": "ipython",
    "version": 3
   },
   "file_extension": ".py",
   "mimetype": "text/x-python",
   "name": "python",
   "nbconvert_exporter": "python",
   "pygments_lexer": "ipython3",
   "version": "3.11.5"
  }
 },
 "nbformat": 4,
 "nbformat_minor": 5
}
